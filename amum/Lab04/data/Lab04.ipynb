{
 "cells": [
  {
   "cell_type": "markdown",
   "id": "59b5dc28",
   "metadata": {},
   "source": [
    "# Algorytmika i matematyka uczenia maszynowego \n",
    "## Laboratorium 4\n",
    "\n",
    "Do wykonania laboratorium należy skorzystać z bibliotek:\n",
    "- [numpy](https://numpy.org/)\n",
    "- [matplotlib](https://matplotlib.org/)\n",
    "\n",
    "### Zadanie 1 - zakupy\n",
    "\n",
    "W sklepie dostępne są następujące produkty:\n",
    "\n",
    "| Produkt | Cena (netto) | Podatek |\n",
    "| --- | --- | --- |\n",
    "| Chleb | 3 | 5% |\n",
    "| Butelka wody (1l) | 2 | 8% |\n",
    "| Pomidor 1szt. | 2 | 5% |\n",
    "| Olej (1l) | 6 | 5% |\n",
    "| Szafran | 24.5 | 8% |\n",
    "| Krewetki (opakowanie) | 20 | 23% |\n",
    "| Lód (opakowanie) | 5 | 23% |\n",
    "\n",
    "\n",
    "#### Zadanie 1 A\n",
    "\n",
    "Zapisz:\n",
    "- nazwy produktów w zmiennej `N`.\n",
    "- ceny produktów w zmiennej `C`.\n",
    "- stawki podatku w zmiennej `P`.\n",
    "\n",
    "*(powyższe zmienne to tablice jednowymiarowe)*\n",
    "\n"
   ]
  },
  {
   "cell_type": "code",
   "execution_count": 2,
   "id": "adf73c67",
   "metadata": {},
   "outputs": [],
   "source": [
    "import numpy as np\n",
    "\n",
    "N = np.array([\"Chleb\", \"Butelka wody (1l)\", \"Pomidor 1szt.\", \"Olej (1l)\", \"Szafran\", \"Krewetki (opakowanie)\", \"Lód (opakowanie)\"])\n",
    "C = np.array([3, 2, 2, 6, 24.5, 20, 5])\n",
    "P = np.array([0.05, 0.08, 0.05, 0.05, 0.08, 0.23, 0.23])"
   ]
  },
  {
   "cell_type": "markdown",
   "id": "ca4e7af2",
   "metadata": {},
   "source": [
    "#### Zadanie 1 B\n",
    "\n",
    "Klient kupił:\n",
    "\n",
    "- 2 szt. chleba, \n",
    "- 6 butelek wody,\n",
    "- 1 opakowanie krewetek.\n",
    "\n",
    "Zapisz zakupy klienta w wektorze `Z` (zachowaj wymiarowość) oraz kolejność produktów zgodnie z zad. 1A."
   ]
  },
  {
   "cell_type": "code",
   "execution_count": 3,
   "id": "81391828",
   "metadata": {},
   "outputs": [],
   "source": [
    "Z = np.array([2, 6, 0, 0, 0, 1, 0])  "
   ]
  },
  {
   "cell_type": "markdown",
   "id": "4d64ce4b",
   "metadata": {},
   "source": [
    "\n",
    "#### Zadanie 1 C\n",
    "\n",
    "Oblicz sumę **netto** jaką klient musi zapłacić bez używania:\n",
    "- operatora `+`, \n",
    "- funkcji/metody `sum`,\n",
    "- operatora mnożenia skalarnego (`*`, `__mul__`).\n",
    "\n",
    "_Podpowiedź: transponuj jeden z wektorów i wykorzystaj mnożenie macierzy._"
   ]
  },
  {
   "cell_type": "code",
   "execution_count": 4,
   "id": "65567a5f",
   "metadata": {},
   "outputs": [
    {
     "name": "stdout",
     "output_type": "stream",
     "text": [
      "[2 6 0 0 0 1 0] [ 3.   2.   2.   6.  24.5 20.   5. ]\n",
      "38.0 PLN\n"
     ]
    }
   ],
   "source": [
    "print(Z, C)\n",
    "\n",
    "net_sum = (Z @ C.T).item()\n",
    "print(f\"{net_sum} PLN\")"
   ]
  },
  {
   "cell_type": "markdown",
   "id": "fe9e7805",
   "metadata": {},
   "source": [
    "#### Zadanie 1D\n",
    "\n",
    "Oblicz wartość **brutto** jaką klient musi zapłacić w sklepie. \n",
    "\n",
    "* W tym zadaniu użyj operatora `*` do obliczenia cen brutto.\n",
    "* Do obliczenia sumy użyj operatora mnożenia macierzy (podobnie jak w zad. 1C).\n",
    "* Dodatkowo, wyświetl rachunek w postaci tabeli zawierającej kolumny: \n",
    "    - nazwa produktu,\n",
    "    - cena netto, \n",
    "    - liczba sztuk, \n",
    "    - cena netto danej pozycji (cena netto x liczba sztuk), \n",
    "    - podatek (procentowo np. `5%`),\n",
    "    - cena brutto danej pozycji. \n",
    "\n",
    "Na końcu tabeli ma się wyświetlić suma brutto do zapłaty.\n",
    "\n",
    "**Oczekiwany wynik:**\n",
    "\n",
    "```\n",
    "Nazwa                       cena x szt.  netto   podatek   brutto\n",
    "Chleb                       3.00 x 2      6.00        5%    ?????\n",
    "Butelka wody (1l)           2.00 x 6     12.00        8%    ?????\n",
    "Krewetki (opakowanie)      24.50 x 1     24.50       23%    ?????\n",
    "=================================================================\n",
    "Suma:                                                       ?????\n",
    "```\n",
    "\n",
    "_(w miejscu znaków zapytania powinny być wartości liczbowe)_"
   ]
  },
  {
   "cell_type": "code",
   "execution_count": 12,
   "id": "f668dc0a",
   "metadata": {},
   "outputs": [
    {
     "name": "stdout",
     "output_type": "stream",
     "text": [
      "Nazwa                         cena x szt.         netto     podatek   brutto    \n",
      "Bread                           3.00 x 2        6.00 zł      5%         6.30 zł\n",
      "Oil (1l)                        6.00 x 1        6.00 zł      5%         6.30 zł\n",
      "Saffron                        24.50 x 1       24.50 zł      8%        26.46 zł\n",
      "Ice (package)                   5.00 x 3       15.00 zł     23%        18.45 zł\n",
      "================================================================================\n",
      "Suma:                                                                  57.51 zł\n"
     ]
    }
   ],
   "source": [
    "def calculate_gross(C, P, Z):\n",
    "    gross_per_item = C * (1 + P)\n",
    "    gross_total = (gross_per_item @ Z.T).item()\n",
    "    return gross_per_item, gross_total\n",
    "\n",
    "def print_receipt(N, C, P, Z):\n",
    "    gross_per_item, gross_total = calculate_gross(C, P, Z)\n",
    "    print(f\"{'Nazwa':<30}{'cena x szt.':<20}{'netto':<10}{'podatek':<10}{'brutto':<10}\")\n",
    "    for i in range(len(N)):\n",
    "        if Z[i] > 0:\n",
    "            net_pos = C[i] * Z[i]\n",
    "            gross_pos = gross_per_item[i] * Z[i]\n",
    "            print(f\"{N[i]:<30}{C[i]:>6.2f} x {Z[i]:<3}{net_pos:>10.2f} zł {P[i]*100:>6.0f}% {gross_pos:>12.2f} zł\")\n",
    "    print(\"=\"*80)\n",
    "    print(f\"Suma: {'':<65}{gross_total:.2f} zł\")\n",
    "\n",
    "\n",
    "print_receipt(N, C, P, Z)"
   ]
  },
  {
   "cell_type": "markdown",
   "id": "67b1b17f",
   "metadata": {
    "heading_collapsed": true
   },
   "source": [
    "### Zadanie 2\n",
    "\n",
    "Zmodyfikuj kod z zadania pierwszego w ten sposób, że dane o produktach będą wczytywane z pliku `produkty.csv`, a dane do rachunku (liczba zakupionych produktów) z pliku `rachunek.csv`.\n",
    "\n",
    "Utwórz przykładowe dane (inne niż w zadaniu 1). Minimum 5 produktów.\n"
   ]
  },
  {
   "cell_type": "code",
   "execution_count": 13,
   "id": "2ef9dd14",
   "metadata": {},
   "outputs": [
    {
     "name": "stdout",
     "output_type": "stream",
     "text": [
      "Nazwa                         cena x szt.         netto     podatek   brutto    \n",
      "Bread                           3.00 x 2        6.00 zł      5%         6.30 zł\n",
      "Oil (1l)                        6.00 x 1        6.00 zł      5%         6.30 zł\n",
      "Saffron                        24.50 x 1       24.50 zł      8%        26.46 zł\n",
      "Ice (package)                   5.00 x 3       15.00 zł     23%        18.45 zł\n",
      "================================================================================\n",
      "Suma:                                                                  57.51 zł\n"
     ]
    }
   ],
   "source": [
    "products = np.loadtxt('produkty.csv', delimiter=',', dtype={'names': ('Product', 'Net_Price', 'Tax'), 'formats': ('U50', 'f8', 'f8')}, encoding='utf-8', skiprows=1)\n",
    "N, C, P = products['Product'], products['Net_Price'], products['Tax']\n",
    "\n",
    "Z = np.genfromtxt('rachunek.csv', delimiter=',', dtype=int, skip_header=1)\n",
    "\n",
    "print_receipt(N, C, P, Z)"
   ]
  },
  {
   "cell_type": "markdown",
   "id": "98e6ec6a",
   "metadata": {},
   "source": [
    "### Zadanie 3 - gra 2048\n",
    "\n",
    "Dana jest kwadratowa plansza o boku `SIZE` (np. 4) dla znanej gry 2048 (https://2048game.com/pl/). \n",
    "Każdy wiersz zawiera od 0 do 4 liczb. Należy, z wykorzystaniem konstrukcji Numpy, zasymulować ruch w lewo, w prawo, w górę i w dół planszy zgodnie z regułami gry (ale **BEZ** dodawania nowego kafelka w losowym miejscu). Innymi słowy, trzeba napisać cztery funkcje: \n",
    "- `move_left(...)`, \n",
    "- `move_right(...)`, \n",
    "- `move_up(...)`, \n",
    "- `move_down(...)`.\n",
    "\n",
    "Przykład ruchu w prawo:\n",
    "\n",
    "Wejściem i wyjściem każdej z wymienionych funkcji jest 2-wymiarowa tablica Numpy.\n",
    "\n",
    "> UWAGA: postaraj się napisać funkcję tylko do jednego ruchu, a pozostałe trzy niech się do niej w sprytny sposób odwołują.\n",
    "\n",
    "#### Przykład ruchu w prawo:\n",
    "<img src=\"data:image/png;base64,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\" />"
   ]
  },
  {
   "cell_type": "code",
   "execution_count": 21,
   "id": "2132338d",
   "metadata": {},
   "outputs": [
    {
     "name": "stdout",
     "output_type": "stream",
     "text": [
      "Original board:\n",
      "[[  32    8   16  512]\n",
      " [   0 1024    0   32]\n",
      " [   2    2    2   16]\n",
      " [   0 1024  256    4]]\n",
      "\n",
      "Move left:\n",
      "[[  32.    8.   16.  512.]\n",
      " [1024.   32.    0.    0.]\n",
      " [   4.    2.   16.    0.]\n",
      " [1024.  256.    4.    0.]]\n",
      "\n",
      "Move right:\n",
      "[[  32.    8.   16.  512.]\n",
      " [   0.    0. 1024.   32.]\n",
      " [   0.    2.    4.   16.]\n",
      " [   0. 1024.  256.    4.]]\n",
      "\n",
      "Move up:\n",
      "[[  32.    8.   16.  512.]\n",
      " [   2. 1024.    2.   32.]\n",
      " [   0.    2.  256.   16.]\n",
      " [   0. 1024.    0.    4.]]\n",
      "\n",
      "Move down:\n",
      "[[   0.    8.    0.  512.]\n",
      " [   0. 1024.   16.   32.]\n",
      " [  32.    2.    2.   16.]\n",
      " [   2. 1024.  256.    4.]]\n"
     ]
    }
   ],
   "source": [
    "def merge(row):\n",
    "    non_zero = row[row != 0]\n",
    "    for i in range(len(non_zero) - 1):\n",
    "        if non_zero[i] == non_zero[i + 1]:\n",
    "            non_zero[i] *= 2\n",
    "            non_zero[i + 1] = 0\n",
    "    return np.append(non_zero[non_zero != 0], [0] * (len(row) - len(non_zero[non_zero != 0])))\n",
    "\n",
    "def move_left(board):\n",
    "    return np.array([merge(row) for row in board])\n",
    "\n",
    "def move_right(board):\n",
    "    return np.array([merge(row[::-1])[::-1] for row in board])\n",
    "\n",
    "def move_up(board):\n",
    "    return np.transpose(np.array([merge(row) for row in np.transpose(board)]))\n",
    "\n",
    "def move_down(board):\n",
    "    return np.transpose(np.array([merge(row[::-1])[::-1] for row in np.transpose(board)]))\n",
    "\n",
    "SIZE = 4\n",
    "board = np.random.choice(\n",
    "    [0, 2, 4, 8, 16, 32, 64, 128, 256, 512, 1024], \n",
    "    size=(SIZE, SIZE)\n",
    ")\n",
    "\n",
    "print(\"Original board:\")\n",
    "print(board)\n",
    "\n",
    "print(\"\\nMove left:\")\n",
    "print(move_left(board))\n",
    "\n",
    "print(\"\\nMove right:\")\n",
    "print(move_right(board))\n",
    "\n",
    "print(\"\\nMove up:\")\n",
    "print(move_up(board))\n",
    "\n",
    "print(\"\\nMove down:\")\n",
    "print(move_down(board))"
   ]
  }
 ],
 "metadata": {
  "author": {
   "email": "robert.susik@p.lodz.pl",
   "name": "Robert Susik"
  },
  "kernelspec": {
   "display_name": "base",
   "language": "python",
   "name": "python3"
  },
  "language_info": {
   "codemirror_mode": {
    "name": "ipython",
    "version": 3
   },
   "file_extension": ".py",
   "mimetype": "text/x-python",
   "name": "python",
   "nbconvert_exporter": "python",
   "pygments_lexer": "ipython3",
   "version": "3.11.5"
  },
  "toc": {
   "base_numbering": 1,
   "nav_menu": {},
   "number_sections": true,
   "sideBar": true,
   "skip_h1_title": false,
   "title_cell": "Table of Contents",
   "title_sidebar": "Contents",
   "toc_cell": false,
   "toc_position": {},
   "toc_section_display": true,
   "toc_window_display": false
  }
 },
 "nbformat": 4,
 "nbformat_minor": 5
}

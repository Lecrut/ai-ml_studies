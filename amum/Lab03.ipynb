{
 "cells": [
  {
   "cell_type": "markdown",
   "id": "59b5dc28",
   "metadata": {},
   "source": [
    "# Algorytmika i matematyka uczenia maszynowego \n",
    "## Laboratorium 3\n",
    "\n",
    "## Zadanie 1\n",
    "\n",
    "Z wykorzystaniem anotacji napisz definicję pustej funkcji, która przyjmuje argumenty: \n",
    "1. lista zawierająca elementy o dopuszczalnych typach: `str` oraz `int`\n",
    "2. krotka zawierająca dwa elementy: ciąg znaków (`str`) oraz listę liczb całkowitych (`int`).\n",
    "\n",
    "Funkcja zwraca słownik, w którym klucze są ciągami znaków, a wartości liczbami całkowitymi.\n"
   ]
  },
  {
   "cell_type": "code",
   "execution_count": 7,
   "id": "0c2d1720",
   "metadata": {},
   "outputs": [
    {
     "name": "stdout",
     "output_type": "stream",
     "text": [
      "{'l1': list[str | int], 't1': tuple[str, list[int]], 'return': dict[str, int]}\n",
      "{'l1': list[str | int], 't1': tuple[str, list[int]], 'return': dict[str, int]}\n"
     ]
    }
   ],
   "source": [
    "from typing import *\n",
    "\n",
    "def fun(l1: list[str | int], t1: tuple[str, list[int]]) -> dict[str, int]:\n",
    "    pass\n",
    "\n",
    "print(fun.__annotations__)\n",
    "print(get_type_hints(fun))\n"
   ]
  },
  {
   "cell_type": "markdown",
   "id": "e20be70b",
   "metadata": {},
   "source": [
    "## Zadanie 2\n",
    "\n",
    "Do niżej zaimplentowanych funkcji napisz dodaj poprawne anotacje typów.\n",
    "\n",
    "\n",
    "> Wskazówka: Zastanów się, jakie typy danych mogą przyjmować argumenty i zwracać funkcje.\n",
    "\n",
    "```python\n",
    "def concatenate(a, b):\n",
    "    return a + b\n",
    "\n",
    "def divide(x, y):\n",
    "    return x / y\n",
    "\n",
    "def sqrt_data(data):\n",
    "    return {k: v * 2 for k, v in data.items()}\n",
    "```"
   ]
  },
  {
   "cell_type": "code",
   "execution_count": 8,
   "id": "adf73c67",
   "metadata": {},
   "outputs": [
    {
     "name": "stdout",
     "output_type": "stream",
     "text": [
      "pan Kleks\n",
      "1.6\n",
      "{'a': 8, 'b': 5.0, 'c': 20}\n"
     ]
    }
   ],
   "source": [
    "def concatenate(a: str | list, b: str | list ) -> str | list:\n",
    "    return a + b\n",
    "\n",
    "def divide(x: int | float , y: int | float) -> int | float:\n",
    "    return x / y\n",
    "\n",
    "def sqrt_data(data: dict[str, int | float]) -> dict[str, int | float]:\n",
    "    return {k: v * 2 for k, v in data.items()}\n",
    "\n",
    "print(concatenate('pan', ' Kleks'))\n",
    "print(divide(4, 2.5))\n",
    "print(sqrt_data({\"a\": 4, \"b\": 2.5, \"c\": 10}))"
   ]
  },
  {
   "cell_type": "markdown",
   "id": "b7bf0400",
   "metadata": {},
   "source": [
    "## Zadanie 3\n",
    "\n",
    "A) Zdefiniuj **alias** `Person`, który będzie reprezentował słownik z kluczami:\n",
    "* `name` – łańcuch znaków,\n",
    "* `age` – liczba całkowita,\n",
    "* `hobbies` – lista łańcuchów znaków.\n",
    "\n",
    "B) Napisz funkcję `get_adults`, która przyjmie listę osób (listę obiektów typu `Person`) i zwróci tylko te, które mają co najmniej 18 lat.\n",
    "\n",
    "> Wskazówka 1: Aby zdefiniować alias, musisz utworzyć nową klasę dziedziczącą po `TypedDict` z anotacjami typów.\n",
    "\n",
    "> Wskazówka 2: `TypedDict` należy zaimportować z modułu `typing`, w następujący sposób: `from typing import TypedDict`."
   ]
  },
  {
   "cell_type": "code",
   "execution_count": 9,
   "id": "20317788",
   "metadata": {},
   "outputs": [
    {
     "name": "stdout",
     "output_type": "stream",
     "text": [
      "[{'name': 'John', 'age': 25, 'hobbies': ['reading', 'running']}, {'name': 'Peter', 'age': 30, 'hobbies': ['chess', 'cooking']}]\n"
     ]
    }
   ],
   "source": [
    "from typing import TypedDict, List\n",
    "\n",
    "class Person(TypedDict):\n",
    "    name: str\n",
    "    age: int\n",
    "    hobbies: List[str]\n",
    "\n",
    "def get_adults(people: List[Person]) -> List[Person]:\n",
    "    return [person for person in people if person[\"age\"] >= 18]\n",
    "\n",
    "people = [\n",
    "    {\"name\": \"John\", \"age\": 25, \"hobbies\": [\"reading\", \"running\"]},\n",
    "    {\"name\": \"Alice\", \"age\": 17, \"hobbies\": [\"drawing\"]},\n",
    "    {\"name\": \"Peter\", \"age\": 30, \"hobbies\": [\"chess\", \"cooking\"]}\n",
    "]\n",
    "\n",
    "adults = get_adults(people)\n",
    "print(adults)\n"
   ]
  },
  {
   "cell_type": "markdown",
   "id": "69cbc6d1",
   "metadata": {},
   "source": [
    "## Zadanie 4\n",
    "\n",
    "Napisz generator `countdown`, który przyjmuje liczbę całkowitą `n` i zwraca kolejne liczby od `n` do `0`. Oznacz poprawnie zwracany typ generatora.\n",
    "\n",
    "> Wskazówka: Zwróć szczególną uwagę na zwracany typ."
   ]
  },
  {
   "cell_type": "code",
   "execution_count": 10,
   "id": "6064ac08",
   "metadata": {},
   "outputs": [
    {
     "name": "stdout",
     "output_type": "stream",
     "text": [
      "<generator object countdown at 0x000002CCDF1211C0>\n",
      "4\n",
      "3\n",
      "2\n",
      "1\n",
      "0\n"
     ]
    }
   ],
   "source": [
    "from typing import Generator\n",
    "\n",
    "def countdown(n: int) -> Generator:\n",
    "    for i in range(n, -1, -1):\n",
    "        yield i\n",
    "        \n",
    "print(countdown(1))\n",
    "        \n",
    "for num in countdown(4):\n",
    "    print(num)\n"
   ]
  },
  {
   "cell_type": "markdown",
   "id": "ca4e7af2",
   "metadata": {},
   "source": [
    "## Zadanie 5\n",
    "\n",
    "Odczytaj anotacje typów funkcji z Zad. 1 i wyświetl je w postaci struktury drzewiastej (zagnieżdżonej listy). Przykładowo:\n",
    "\n",
    "```\n",
    "p1\n",
    " list\n",
    "   union\n",
    "     int\n",
    "     str\n",
    "p2\n",
    " tuple\n",
    "   str\n",
    "   list\n",
    "     int\n",
    "return\n",
    " dict\n",
    "   str\n",
    "   int\n",
    "```\n",
    "\n",
    "\n",
    "> Wskazówka: wykorzystaj `get_type_hints` (lub `__annotations__`), `get_args` (lub `__args__`), `get_origin` (lub `__origin__`).\n",
    "\n",
    "> Wskazówka 2: uwaga! nie wszystkie typy posiadają `__args__` oraz `__origin__`, więc zaleca się korzystanie z `get_args` oraz `get_origin`.\n"
   ]
  },
  {
   "cell_type": "code",
   "execution_count": 11,
   "id": "81391828",
   "metadata": {},
   "outputs": [
    {
     "name": "stdout",
     "output_type": "stream",
     "text": [
      "Type hints:\n",
      "\n",
      "t1:\n",
      "  list:\n",
      "    Union:\n",
      "      str\n",
      "      int\n",
      "\n",
      "t2:\n",
      "  tuple:\n",
      "    str\n",
      "    list:\n",
      "      int\n",
      "\n",
      "return:\n",
      "  dict:\n",
      "    str\n",
      "    int\n"
     ]
    }
   ],
   "source": [
    "from typing import get_type_hints, get_origin, get_args, List, Union, Tuple, Dict\n",
    "\n",
    "def function(t1: List[Union[str, int]], t2: Tuple[str, List[int]]) -> Dict[str, int]:\n",
    "    pass\n",
    "\n",
    "def display_struct(element, tab=0):\n",
    "    origin = get_origin(element)\n",
    "    args = get_args(element)\n",
    "\n",
    "    indent = '  ' * tab\n",
    "\n",
    "    if origin is not None:\n",
    "        print(f\"{indent}{origin.__name__ if hasattr(origin, '__name__') else str(origin)}:\")\n",
    "        for arg in args:\n",
    "            display_struct(arg, tab + 1)\n",
    "    else:\n",
    "        print(f\"{indent}{element.__name__ if hasattr(element, '__name__') else str(element)}\")\n",
    "\n",
    "type_hints = get_type_hints(function)\n",
    "\n",
    "print(\"Type hints:\")\n",
    "for name, element in type_hints.items():\n",
    "    print(f\"\\n{name}:\")\n",
    "    display_struct(element, 1)\n"
   ]
  }
 ],
 "metadata": {
  "author": {
   "email": "robert.susik@p.lodz.pl",
   "name": "Robert Susik"
  },
  "kernelspec": {
   "display_name": "base",
   "language": "python",
   "name": "python3"
  },
  "language_info": {
   "codemirror_mode": {
    "name": "ipython",
    "version": 3
   },
   "file_extension": ".py",
   "mimetype": "text/x-python",
   "name": "python",
   "nbconvert_exporter": "python",
   "pygments_lexer": "ipython3",
   "version": "3.11.5"
  },
  "toc": {
   "base_numbering": 1,
   "nav_menu": {},
   "number_sections": true,
   "sideBar": true,
   "skip_h1_title": false,
   "title_cell": "Table of Contents",
   "title_sidebar": "Contents",
   "toc_cell": false,
   "toc_position": {},
   "toc_section_display": true,
   "toc_window_display": false
  }
 },
 "nbformat": 4,
 "nbformat_minor": 5
}

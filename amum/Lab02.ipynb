{
 "cells": [
  {
   "cell_type": "markdown",
   "id": "9ed56307",
   "metadata": {},
   "source": [
    "# Algorytmika i matematyka uczenia maszynowego \n",
    "## Laboratorium 2\n",
    "\n",
    "Do wykonania zadań proszę zapoznać się z metodami, właściwościami, oraz funkcjami:\n",
    "`__repr__`, `__str__`, `__add__`, `__sub__`, `__eq__`, `__lt__`, `__gt__`, `__le__`, `__ge__`, `__ne__`, `__hash__`, `__truediv__`, `__mul__`, `__class__`, `__name__`, `id`.\n",
    "\n",
    "Operatory: https://docs.python.org/3/library/operator.html\n",
    "\n",
    "\n",
    "**UWAGA**: W niniejszym laboratorium proszę nie korzystać z zewnętrzych modułów/bibliotek (poza biblioteką _matplotlib_).\n",
    "\n",
    "**UWAGA 2**: Obsługę błędów należy zrealizować w postaci wyjątków.\n",
    "\n",
    "### Zadanie 1\n",
    "\n",
    "Napisz klasę `Vector` udostępniającą funkcjonalność:\n",
    "- reprezentuje wektor dowolnej długości,\n",
    "- obiekt inicjowany listą (np. `Vector([1, 2, 3])`,\n",
    "- posiada funkcję zwracającą moduł wektora,\n",
    "- umożliwia dodawanie (`+`) i odejmowanie (`-`) wektorów. Dodaj obsługę błędów (różna długość (liczba elementów) wektora),\n",
    "- możliwość wyświetlenia wektora jako listy za pomocą funkcji `print(v)` (metoda `__str__`),\n",
    "- uruchomienie komórki zawierającej jedynie nazwę zmiennej (typu `Vector`) spowoduje wyświetlenie nazwy typu `Vector`, adresu zmiennej w pamięci (funkcja `id`) oraz jej zawartości, np. `<Vector([1, 2, 3]) at 140185630442880>` (metoda `__repr__`)"
   ]
  },
  {
   "cell_type": "code",
   "execution_count": 13,
   "id": "ac82ae76",
   "metadata": {},
   "outputs": [
    {
     "name": "stdout",
     "output_type": "stream",
     "text": [
      "[-2, -2, -1, -3]\n"
     ]
    },
    {
     "data": {
      "text/plain": [
       "<Vector((False, False, False, False)) at 0x1ca83d89850>"
      ]
     },
     "execution_count": 13,
     "metadata": {},
     "output_type": "execute_result"
    }
   ],
   "source": [
    "import math\n",
    "import matplotlib.pyplot as plt\n",
    "\n",
    "\n",
    "class Vector:\n",
    "    def __init__(self, v):\n",
    "        self.v = tuple(v)  \n",
    "\n",
    "        \n",
    "    def __str__(self):\n",
    "        return str(self.v)\n",
    "    \n",
    "    def __add__(self, v1):\n",
    "        if len(v1.v) == len(self.v):\n",
    "            res = []\n",
    "            for i in range(len(v1.v)):\n",
    "                res.append(self.v[i] + v1.v[i])\n",
    "            return res\n",
    "        else:\n",
    "            raise ValueError(\"Vectors must be of the same length\")\n",
    "            \n",
    "    def __sub__(self, v1):\n",
    "        if len(v1.v) == len(self.v):\n",
    "            res = []\n",
    "            for i in range(len(v1.v)):\n",
    "                res.append(self.v[i] - v1.v[i])\n",
    "            return res\n",
    "        else:\n",
    "            raise ValueError(\"Vectors must be of the same length\")\n",
    "            \n",
    "    def module(self):\n",
    "        return math.sqrt(sum(x**2 for x in self.v))    \n",
    "    \n",
    "    def __repr__(self):\n",
    "        return f\"<{self.__class__.__name__}({self.v}) at {hex(id(self))}>\"\n",
    "    \n",
    "    def __eq__(self, v1): \n",
    "        if len(v1.v) != len(self.v):\n",
    "            raise ValueError(\"Vectors must be of the same length\")\n",
    "        res = []\n",
    "        for i in range(len(v1.v)):\n",
    "            res.append(self.v[i] == v1.v[i])\n",
    "        return Vector(res)\n",
    "\n",
    "    def __ne__(self, v1): \n",
    "        if len(v1.v) != len(self.v):\n",
    "            raise ValueError(\"Vectors must be of the same length\")\n",
    "        res = []\n",
    "        for i in range(len(v1.v)):\n",
    "            res.append(self.v[i] != v1.v[i])\n",
    "        return Vector(res)\n",
    "    \n",
    "    def __le__(self, v1): \n",
    "        if len(v1.v) != len(self.v):\n",
    "            raise ValueError(\"Vectors must be of the same length\")\n",
    "        res = []\n",
    "        for i in range(len(v1.v)):\n",
    "            res.append(self.v[i] <= v1.v[i])\n",
    "        return Vector(res)\n",
    "    \n",
    "    def __ge__(self, v1): \n",
    "        if len(v1.v) != len(self.v):\n",
    "            raise ValueError(\"Vectors must be of the same length\")\n",
    "        res = []\n",
    "        for i in range(len(v1.v)):\n",
    "            res.append(self.v[i] >= v1.v[i])\n",
    "        return Vector(res)\n",
    "    \n",
    "    def __lt__(self, v1): \n",
    "        if len(v1.v) != len(self.v):\n",
    "            raise ValueError(\"Vectors must be of the same length\")\n",
    "        res = []\n",
    "        for i in range(len(v1.v)):\n",
    "            res.append(self.v[i] < v1.v[i])\n",
    "        return Vector(res)\n",
    "    \n",
    "    def __gt__(self, v1): \n",
    "        if len(v1.v) != len(self.v):\n",
    "            raise ValueError(\"Vectors must be of the same length\")\n",
    "        res = []\n",
    "        for i in range(len(v1.v)):\n",
    "            res.append(self.v[i] > v1.v[i])\n",
    "        return Vector(res)\n",
    "    \n",
    "    def __hash__(self):\n",
    "        return hash(self.v)\n",
    "    \n",
    "    def __mul__(self, scalar):\n",
    "        if not isinstance(scalar, (int, float)):\n",
    "            raise TypeError(f\"Multiplication is only supported with scalars (int or float), not {type(scalar).__name__}\")\n",
    "        return Vector(tuple(x * scalar for x in self.v))\n",
    "\n",
    "    def __truediv__(self, scalar):\n",
    "        if not isinstance(scalar, (int, float)):\n",
    "            raise TypeError(f\"Division is only supported with scalars (int or float), not {type(scalar).__name__}\")\n",
    "        if scalar == 0:\n",
    "            raise ZeroDivisionError(\"Cannot divide by zero\")\n",
    "        return Vector(tuple(x / scalar for x in self.v))\n",
    "\n",
    "\n",
    "    def plot(self):\n",
    "        if len(self.v) != 2: \n",
    "            raise ValueError(\"Vectors max length is 2\")\n",
    "        \n",
    "        plt.figure(figsize=(5, 5))\n",
    "        plt.arrow(0, 0, self.v[0], self.v[1], \n",
    "                  head_width=0.2, head_length=0.3, fc='red', ec='red')\n",
    "        plt.xlabel(\"X\")\n",
    "        plt.ylabel(\"Y\")\n",
    "        plt.title(\"Wizualizacja wektora\")\n",
    "        plt.show()\n",
    "        \n",
    "    \n",
    "v1 = Vector([1, 2, 4, 5])\n",
    "print(v1 - Vector([3, 4 , 5, 8]))\n",
    "v1 > v1\n",
    "            "
   ]
  },
  {
   "cell_type": "markdown",
   "id": "87da7375",
   "metadata": {},
   "source": [
    "### Zadanie 2\n",
    "\n",
    "Do wcześniej zaimplementowanej klasy dopisz funkcje pozwalające na porównanie wektorów za pomocą operatorów: `==`, `>=`, `<=`, `>`, `<`, `!=`. Porównanie ma zostać wykonane na poziomie elementów wektorów (_element wise_), poniżej przykład:\n",
    "\n",
    "```ipython\n",
    " In [1]: a = Vector([1, 2, 3]) \\\n",
    "    ...: b = Vector([3, 2, 1]) \\\n",
    "    ...: a <= b\n",
    "Out [1]: <Vector([True, True, False]) at 140185575662832>\n",
    "```"
   ]
  },
  {
   "cell_type": "code",
   "execution_count": 14,
   "id": "3b99972a",
   "metadata": {},
   "outputs": [
    {
     "data": {
      "text/plain": [
       "<Vector((True, False, True)) at 0x1ca83dbd690>"
      ]
     },
     "execution_count": 14,
     "metadata": {},
     "output_type": "execute_result"
    }
   ],
   "source": [
    "v1 = Vector([1, 3 , 5])\n",
    "v2 = Vector([2, 2 , 7])\n",
    "\n",
    "v1 < v2"
   ]
  },
  {
   "cell_type": "markdown",
   "id": "d8e9a446",
   "metadata": {},
   "source": [
    "### Zadanie 3\n",
    "\n",
    "Napisz funkcję umożliwiającą wyświetlenie wektora (`Vector`) zaczepionego w punkcie (0,0) na wykresie (zaimplementuj wyświetlanie za pomocą biblioteki `matplotlib`. \n",
    "\n",
    "> **UWAGA**: Funkcja powinna działać tylko dla wektora o dwóch wymiarach (dwuelementowa lista) - wykres 2D i wyświetlać komunikat jeżeli wymiar jest inny.\n",
    "\n",
    "> Podpowiedź: możesz wykorzystać funkcję [matplotlib.pyplot.arrow](https://matplotlib.org/3.5.1/api/_as_gen/matplotlib.pyplot.arrow.html)"
   ]
  },
  {
   "cell_type": "code",
   "execution_count": 15,
   "id": "c9f9de7b",
   "metadata": {},
   "outputs": [
    {
     "data": {
      "image/png": "[encoded data removed]",
      "text/plain": [
       "<Figure size 500x500 with 1 Axes>"
      ]
     },
     "metadata": {},
     "output_type": "display_data"
    }
   ],
   "source": [
    "v1 = Vector([1, 4])\n",
    "\n",
    "v1.plot()"
   ]
  },
  {
   "cell_type": "markdown",
   "id": "ebc3c411",
   "metadata": {},
   "source": [
    "### Zadanie 4\n",
    "\n",
    "Dodaj możliwość zastosowania obiektu klasy `Vector` jako klucza w słowniku. Np.:\n",
    "\n",
    "```python\n",
    "d = {\n",
    "    Vector([1, 2, 3]): 'Wektor 1',\n",
    "    Vector([2, 2, 3]): 'Wektor 2'\n",
    "}\n",
    "d[Vector([2, 2, 3])]\n",
    "```"
   ]
  },
  {
   "cell_type": "code",
   "execution_count": 16,
   "id": "d1db2d39",
   "metadata": {},
   "outputs": [
    {
     "data": {
      "text/plain": [
       "'Wektor 2'"
      ]
     },
     "execution_count": 16,
     "metadata": {},
     "output_type": "execute_result"
    }
   ],
   "source": [
    "d = {\n",
    "    Vector([1, 2, 3]): 'Wektor 1',\n",
    "    Vector([2, 2, 3]): 'Wektor 2'\n",
    "}\n",
    "d[Vector([2, 2, 3])]"
   ]
  },
  {
   "cell_type": "markdown",
   "id": "8aec816a",
   "metadata": {},
   "source": [
    "### Zadanie 5\n",
    "\n",
    "Dodaj funkcjonalność:\n",
    "- dzielenia przez skalar (np. `Vector([2, 4]) / 2`),\n",
    "- mnożenia przez skalar (np. `Vector([2, 4]) * 2`).\n",
    "\n",
    "> Podpowiedź: Pamiętaj o obsłudze błędów."
   ]
  },
  {
   "cell_type": "code",
   "execution_count": 18,
   "id": "2bb3d9bb",
   "metadata": {},
   "outputs": [
    {
     "data": {
      "text/plain": [
       "<Vector((1.0, 2.0)) at 0x1ca83dbda90>"
      ]
     },
     "execution_count": 18,
     "metadata": {},
     "output_type": "execute_result"
    }
   ],
   "source": [
    "Vector([2, 4]) * 2"
   ]
  },
  {
   "cell_type": "code",
   "execution_count": 19,
   "id": "349a0235",
   "metadata": {},
   "outputs": [
    {
     "data": {
      "text/plain": [
       "<Vector((1.0, 2.0)) at 0x1ca83ca9150>"
      ]
     },
     "execution_count": 19,
     "metadata": {},
     "output_type": "execute_result"
    }
   ],
   "source": [
    "Vector([2, 4]) / 2"
   ]
  },
  {
   "cell_type": "code",
   "execution_count": null,
   "id": "1bcef494",
   "metadata": {},
   "outputs": [],
   "source": []
  }
 ],
 "metadata": {
  "author": {
   "email": "robert.susik@p.lodz.pl",
   "name": "Robert Susik"
  },
  "kernelspec": {
   "display_name": "Python 3 (ipykernel)",
   "language": "python",
   "name": "python3"
  },
  "language_info": {
   "codemirror_mode": {
    "name": "ipython",
    "version": 3
   },
   "file_extension": ".py",
   "mimetype": "text/x-python",
   "name": "python",
   "nbconvert_exporter": "python",
   "pygments_lexer": "ipython3",
   "version": "3.11.5"
  },
  "toc": {
   "base_numbering": 1,
   "nav_menu": {},
   "number_sections": true,
   "sideBar": true,
   "skip_h1_title": false,
   "title_cell": "Table of Contents",
   "title_sidebar": "Contents",
   "toc_cell": false,
   "toc_position": {},
   "toc_section_display": true,
   "toc_window_display": false
  }
 },
 "nbformat": 4,
 "nbformat_minor": 5
}

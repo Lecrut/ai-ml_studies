{
 "cells": [
  {
   "cell_type": "markdown",
   "id": "bedecc37",
   "metadata": {},
   "source": [
    "## Laboratorium 5 - algorytm Najbliższej Średniej (NM)\n",
    "\n",
    "\n",
    "### Opis\n",
    "Celem laboratorium jest implementacja klasyfikatora najbliższej średniej NM (*Nearest Mean*).\n",
    "\n",
    "\n",
    "### Zadanie 1\n",
    "* Wczytaj dane.\n",
    "* Wszystkie poniższe zadania wykonaj dla wszystkich dostępnych klas i wszystkich cech.\n"
   ]
  },
  {
   "cell_type": "code",
   "execution_count": 1,
   "id": "5c95f1d3",
   "metadata": {},
   "outputs": [
    {
     "name": "stdout",
     "output_type": "stream",
     "text": [
      "X shapes (2244, 14), (1496, 14)\n",
      "Y shapes (2244,), (1496,)\n"
     ]
    }
   ],
   "source": [
    "import numpy as np\n",
    "\n",
    "with open('./dataset/dataset.npz', 'rb') as f:\n",
    "    data = np.load(f)\n",
    "    train, test = data['train'], data['test']\n",
    "\n",
    "features = list(range(2, 16))\n",
    "\n",
    "X_train = train[:, features]\n",
    "Y_train = train[:, 0]\n",
    "\n",
    "X_test = test[:, features]\n",
    "Y_test = test[:, 0]\n",
    "\n",
    "print(f\"X shapes {X_train.shape}, {X_test.shape}\")\n",
    "print(f\"Y shapes {Y_train.shape}, {Y_test.shape}\")"
   ]
  },
  {
   "cell_type": "markdown",
   "id": "60209851",
   "metadata": {},
   "source": [
    "### Zadanie 2\n",
    "Zaimplementuj klasyfikator najbliższej średniej (NM) z zastosowaniem odległości Euklidesa i wykonaj klasyfikację. Wyświetl wynik klasyfikacji (accuracy)."
   ]
  },
  {
   "cell_type": "code",
   "execution_count": 2,
   "id": "a5178ccf",
   "metadata": {},
   "outputs": [
    {
     "name": "stdout",
     "output_type": "stream",
     "text": [
      "Accuracy: 46.06%\n"
     ]
    }
   ],
   "source": [
    "from sklearn.metrics import accuracy_score\n",
    "\n",
    "def calculate_class_means(X, Y):\n",
    "    classes = np.unique(Y)\n",
    "    means = {}\n",
    "    for cls in classes:\n",
    "        indices = np.where(Y == cls)[0]\n",
    "        means[cls] = np.mean(X[indices], axis=0)\n",
    "    return means\n",
    "\n",
    "def nearest_mean_classifier(X_train, Y_train, X_test):\n",
    "    means = calculate_class_means(X_train, Y_train)\n",
    "    predictions = []\n",
    "    for sample in X_test:\n",
    "        distances = {cls: np.linalg.norm(sample - mean) for cls, mean in means.items()}\n",
    "        predicted_class = min(distances, key=distances.get)\n",
    "        predictions.append(predicted_class)\n",
    "    return np.array(predictions)\n",
    "\n",
    "predictions = nearest_mean_classifier(X_train, Y_train, X_test)\n",
    "\n",
    "accuracy = accuracy_score(Y_test, predictions)\n",
    "print(f\"Accuracy: {accuracy * 100:.2f}%\")"
   ]
  },
  {
   "cell_type": "markdown",
   "id": "78cecb0d",
   "metadata": {},
   "source": [
    "### Zadanie 3\n",
    "Zaimplementuj funkcję, która zwraca macierz kowariancji (*uwaga: biblioteka `numpy` posiada gotową implementację `cov` z którą powinieneś porównać swój wynik*).\n",
    "\n",
    "\\begin{equation*}\n",
    "C = \\frac{1}{n - 1} (X - \\bar X)(X - \\bar X)^T\n",
    "\\end{equation*}\n",
    "\n",
    "gdzie:\n",
    "* $X$ to macierz danych,\n",
    "* $\\bar X$ to wektor średnich wartości cech. \n",
    "\n"
   ]
  },
  {
   "cell_type": "code",
   "execution_count": 3,
   "id": "112b2f92",
   "metadata": {},
   "outputs": [
    {
     "name": "stdout",
     "output_type": "stream",
     "text": [
      "Czy macierze są równe?: True\n"
     ]
    }
   ],
   "source": [
    "def calculate_covariance_matrix(X):\n",
    "    n = X.shape[0]\n",
    "    mean_vector = np.mean(X, axis=0)\n",
    "    centered_X = X - mean_vector\n",
    "    covariance_matrix = (1 / (n - 1)) * np.dot(centered_X.T, centered_X)\n",
    "    return covariance_matrix\n",
    "\n",
    "custom_cov_matrix = calculate_covariance_matrix(X_train)\n",
    "\n",
    "numpy_cov_matrix = np.cov(X_train, rowvar=False)\n",
    "\n",
    "are_equal = np.allclose(custom_cov_matrix, numpy_cov_matrix, atol=1e-8)\n",
    "print(\"Czy macierze są równe?:\", are_equal)"
   ]
  },
  {
   "cell_type": "markdown",
   "id": "e4e948f9",
   "metadata": {},
   "source": [
    "### Zadanie 4\n",
    "Zaimplementuj klasyfikator najbliższej średniej (NM) z zastosowaniem odległości Mahalanobisa i wykonaj klasyfikację. Wyświetl wynik klasyfikacji (accuracy).\n",
    "\n",
    "\\begin{equation*}\n",
    "D_j = \\sqrt{ (x - \\mu_j)^T S_j^{-1}(x - \\mu_j) },\n",
    "\\end{equation*}\n",
    "\n",
    "gdzie:\n",
    "* $D_j$ to odległość klasyfikowanej próbki od klasy $j$, \n",
    "* $\\mu_j$ to wektor średnich wartości cech dla klasy $j$, \n",
    "* $S_j^{-1}$ to macierz odwrotna do macierzy kowariancji klasy $j$, \n",
    "* a $x$ to klasyfikowana próbka.\n",
    "\n",
    "> Podpowiedź: Do obliczenia macierzy odwrotnej możesz użyć funkcji `linalg.inv` z biblioteki `numpy`.\n",
    "\n",
    "> UWAGA: W niniejszym zadaniu możesz zastosować dowolną strukturę kodu (nie musisz trzymać się struktury z poprzedniego zadania), jednak algorytm NM należy zaimplementować samodzielnie – bez użycia gotowych rozwiązań (np. z biblioteki `scikit-learn`).\n",
    "\n",
    "<span style=\"text-decoration:underline\">Referencje</span>\n",
    "\n",
    "1. Mahalanobis, P C, _On test and measures of group divergence : theoretical formulae_, Journal and Proceedings of Asiatic Society of Bengal (New Series) Vol. 26, pp. 541-588. 1930. (URL: http://library.isical.ac.in:8080/xmlui/bitstream/handle/10263/1639/029.pdf)\n",
    "2. McLachlan, Goeffrey J. _Mahalanobis distance_, Resonance, pp. 20-26. 1999. (URL: https://www.ias.ac.in/article/fulltext/reso/004/06/0020-0026)"
   ]
  },
  {
   "cell_type": "code",
   "execution_count": 4,
   "id": "c5df2ed6",
   "metadata": {},
   "outputs": [
    {
     "name": "stdout",
     "output_type": "stream",
     "text": [
      "Accuracy: 56.35%\n"
     ]
    }
   ],
   "source": [
    "def calculate_class_covariances(X, Y):\n",
    "    classes = np.unique(Y)\n",
    "    covariances = {}\n",
    "    for cls in classes:\n",
    "        indices = np.where(Y == cls)[0]\n",
    "        X_class = X[indices]\n",
    "        covariances[cls] = calculate_covariance_matrix(X_class)\n",
    "    return covariances\n",
    "\n",
    "def mahalanobis_distance(x, mean, cov_inv):\n",
    "    diff = x - mean\n",
    "    return np.sqrt(np.dot(np.dot(diff.T, cov_inv), diff))  \n",
    "\n",
    "def nearest_mean_mahalanobis_classifier(X_train, Y_train, X_test):\n",
    "    means = calculate_class_means(X_train, Y_train)\n",
    "    covariances = calculate_class_covariances(X_train, Y_train)\n",
    "    cov_inverses = {cls: np.linalg.inv(cov) for cls, cov in covariances.items()}\n",
    "    predictions = []\n",
    "    for sample in X_test:\n",
    "        distances = {cls: mahalanobis_distance(sample, means[cls], cov_inverses[cls]) for cls in means}\n",
    "        predicted_class = min(distances, key=distances.get)\n",
    "        predictions.append(predicted_class)\n",
    "    return np.array(predictions)\n",
    "\n",
    "predictions_mahalanobis = nearest_mean_mahalanobis_classifier(X_train, Y_train, X_test)\n",
    "accuracy_mahalanobis = accuracy_score(Y_test, predictions_mahalanobis)\n",
    "print(f\"Accuracy: {accuracy_mahalanobis * 100:.2f}%\")\n"
   ]
  }
 ],
 "metadata": {
  "author": {
   "email": "robert.susik@p.lodz.pl",
   "name": "Robert Susik"
  },
  "kernelspec": {
   "display_name": "base",
   "language": "python",
   "name": "python3"
  },
  "language_info": {
   "codemirror_mode": {
    "name": "ipython",
    "version": 3
   },
   "file_extension": ".py",
   "mimetype": "text/x-python",
   "name": "python",
   "nbconvert_exporter": "python",
   "pygments_lexer": "ipython3",
   "version": "3.11.5"
  },
  "toc": {
   "base_numbering": 1,
   "nav_menu": {},
   "number_sections": true,
   "sideBar": true,
   "skip_h1_title": false,
   "title_cell": "Table of Contents",
   "title_sidebar": "Contents",
   "toc_cell": false,
   "toc_position": {},
   "toc_section_display": true,
   "toc_window_display": false
  }
 },
 "nbformat": 4,
 "nbformat_minor": 5
}
